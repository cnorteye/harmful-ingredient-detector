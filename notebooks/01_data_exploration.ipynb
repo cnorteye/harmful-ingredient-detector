{
 "cells": [
  {
   "cell_type": "code",
   "execution_count": 2,
   "metadata": {},
   "outputs": [],
   "source": [
    "import sys\n",
    "import os"
   ]
  },
  {
   "cell_type": "code",
   "execution_count": 3,
   "metadata": {},
   "outputs": [
    {
     "name": "stdout",
     "output_type": "stream",
     "text": [
      "Now in: c:\\Users\\User\\Documents\\cs599_deepLearning\\harmful-ingredient-detector\n"
     ]
    }
   ],
   "source": [
    "os.chdir(\"..\")  # Go up one level\n",
    "print(\"Now in:\", os.getcwd())"
   ]
  },
  {
   "cell_type": "code",
   "execution_count": 4,
   "metadata": {},
   "outputs": [],
   "source": [
    "# Add parent directory to path so Python can file the 'data/' module\n",
    "sys.path.append(os.path.abspath(\"..\"))"
   ]
  },
  {
   "cell_type": "code",
   "execution_count": 5,
   "metadata": {},
   "outputs": [],
   "source": [
    "from data.load_beauty_data import get_beauty_dataset\n",
    "from preprocessing.clean_and_label import load_ingredient_blacklist, label_dataframe"
   ]
  },
  {
   "cell_type": "code",
   "execution_count": null,
   "metadata": {},
   "outputs": [],
   "source": [
    "from preprocessing.parse_unacceptable_lists import (\n",
    "    extract_text_from_pdf,\n",
    "    extract_ingredient_names,\n",
    "    update_master_list\n",
    ")\n",
    "\n",
    "pdf_path = \"data/raw_ingredient_lists/EWGV_Cosmetics_Program__Active_Unacceptable_List_C02_2022.pdf\"\n",
    "master_list_path = \"cleaned_data/harmful_ingredients_master.txt\"\n",
    "\n",
    "# Extract and update\n",
    "text = extract_text_from_pdf(pdf_path)\n",
    "new_names = extract_ingredient_names(text)\n",
    "update_master_list(new_names, master_list_path)\n"
   ]
  },
  {
   "cell_type": "code",
   "execution_count": 6,
   "metadata": {},
   "outputs": [],
   "source": [
    "# laod data\n",
    "df = get_beauty_dataset()\n"
   ]
  },
  {
   "cell_type": "code",
   "execution_count": 7,
   "metadata": {},
   "outputs": [],
   "source": [
    "# Load blacklist\n",
    "harmful_set = load_ingredient_blacklist()"
   ]
  },
  {
   "cell_type": "code",
   "execution_count": 8,
   "metadata": {},
   "outputs": [],
   "source": [
    "# Label data\n",
    "labeled_df = label_dataframe(df, harmful_set)"
   ]
  },
  {
   "cell_type": "code",
   "execution_count": 9,
   "metadata": {},
   "outputs": [
    {
     "name": "stdout",
     "output_type": "stream",
     "text": [
      "label\n",
      "1    11821\n",
      "0     2472\n",
      "Name: count, dtype: int64\n"
     ]
    },
    {
     "data": {
      "text/html": [
       "<div>\n",
       "<style scoped>\n",
       "    .dataframe tbody tr th:only-of-type {\n",
       "        vertical-align: middle;\n",
       "    }\n",
       "\n",
       "    .dataframe tbody tr th {\n",
       "        vertical-align: top;\n",
       "    }\n",
       "\n",
       "    .dataframe thead th {\n",
       "        text-align: right;\n",
       "    }\n",
       "</style>\n",
       "<table border=\"1\" class=\"dataframe\">\n",
       "  <thead>\n",
       "    <tr style=\"text-align: right;\">\n",
       "      <th></th>\n",
       "      <th>product_name</th>\n",
       "      <th>brands</th>\n",
       "      <th>ingredients_text</th>\n",
       "      <th>label</th>\n",
       "    </tr>\n",
       "  </thead>\n",
       "  <tbody>\n",
       "    <tr>\n",
       "      <th>4</th>\n",
       "      <td>[{'lang': 'main', 'text': 'Cèdre eau de toilet...</td>\n",
       "      <td>Fragonard</td>\n",
       "      <td>alcohol denat. (SD alcohol 39C), aqua (water),...</td>\n",
       "      <td>1</td>\n",
       "    </tr>\n",
       "    <tr>\n",
       "      <th>5</th>\n",
       "      <td>[{'lang': 'main', 'text': 'Sinful colors Gorge...</td>\n",
       "      <td>Mirage Cosmetics</td>\n",
       "      <td>ethyl &amp; but copolymhyl acetate, dimethicone, c...</td>\n",
       "      <td>1</td>\n",
       "    </tr>\n",
       "    <tr>\n",
       "      <th>7</th>\n",
       "      <td>[{'lang': 'main', 'text': 'Shampooing soin for...</td>\n",
       "      <td>Palmer's</td>\n",
       "      <td>Aqua, Sodium C14-16 Olefin Sulfonate, Glycol S...</td>\n",
       "      <td>1</td>\n",
       "    </tr>\n",
       "    <tr>\n",
       "      <th>9</th>\n",
       "      <td>[{'lang': 'main', 'text': 'Lotion de massage A...</td>\n",
       "      <td>Palmer's</td>\n",
       "      <td>Aqua, Theobroma Cacao Extract, Glycerin, Glyce...</td>\n",
       "      <td>1</td>\n",
       "    </tr>\n",
       "    <tr>\n",
       "      <th>15</th>\n",
       "      <td>[{'lang': 'main', 'text': 'All-One Rose Pure-C...</td>\n",
       "      <td>Dr. Bronner's, Dr. Bronner's Magic Soaps</td>\n",
       "      <td>Organic Coconut Oil, Organic Palm Oil, Sodium ...</td>\n",
       "      <td>1</td>\n",
       "    </tr>\n",
       "  </tbody>\n",
       "</table>\n",
       "</div>"
      ],
      "text/plain": [
       "                                         product_name  \\\n",
       "4   [{'lang': 'main', 'text': 'Cèdre eau de toilet...   \n",
       "5   [{'lang': 'main', 'text': 'Sinful colors Gorge...   \n",
       "7   [{'lang': 'main', 'text': 'Shampooing soin for...   \n",
       "9   [{'lang': 'main', 'text': 'Lotion de massage A...   \n",
       "15  [{'lang': 'main', 'text': 'All-One Rose Pure-C...   \n",
       "\n",
       "                                      brands  \\\n",
       "4                                  Fragonard   \n",
       "5                           Mirage Cosmetics   \n",
       "7                                   Palmer's   \n",
       "9                                   Palmer's   \n",
       "15  Dr. Bronner's, Dr. Bronner's Magic Soaps   \n",
       "\n",
       "                                     ingredients_text  label  \n",
       "4   alcohol denat. (SD alcohol 39C), aqua (water),...      1  \n",
       "5   ethyl & but copolymhyl acetate, dimethicone, c...      1  \n",
       "7   Aqua, Sodium C14-16 Olefin Sulfonate, Glycol S...      1  \n",
       "9   Aqua, Theobroma Cacao Extract, Glycerin, Glyce...      1  \n",
       "15  Organic Coconut Oil, Organic Palm Oil, Sodium ...      1  "
      ]
     },
     "execution_count": 9,
     "metadata": {},
     "output_type": "execute_result"
    }
   ],
   "source": [
    "# check results\n",
    "print(labeled_df['label'].value_counts())\n",
    "labeled_df.head()"
   ]
  }
 ],
 "metadata": {
  "kernelspec": {
   "display_name": "Python 3",
   "language": "python",
   "name": "python3"
  },
  "language_info": {
   "codemirror_mode": {
    "name": "ipython",
    "version": 3
   },
   "file_extension": ".py",
   "mimetype": "text/x-python",
   "name": "python",
   "nbconvert_exporter": "python",
   "pygments_lexer": "ipython3",
   "version": "3.11.9"
  }
 },
 "nbformat": 4,
 "nbformat_minor": 2
}
